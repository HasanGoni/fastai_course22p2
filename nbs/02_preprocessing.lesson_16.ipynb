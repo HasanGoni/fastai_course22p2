{
 "cells": [
  {
   "cell_type": "code",
   "execution_count": 1,
   "metadata": {},
   "outputs": [],
   "source": [
    "#| default_exp preprocessing.lesson16"
   ]
  },
  {
   "cell_type": "markdown",
   "metadata": {},
   "source": [
    "# Lesson16 Scripts\n",
    "> Reproducing lesson 16"
   ]
  },
  {
   "cell_type": "code",
   "execution_count": 2,
   "metadata": {},
   "outputs": [],
   "source": [
    "#| hide\n",
    "%load_ext autoreload\n",
    "%autoreload 2"
   ]
  },
  {
   "cell_type": "code",
   "execution_count": 3,
   "metadata": {},
   "outputs": [],
   "source": [
    "#| export\n",
    "from cv_tools.core import *\n"
   ]
  },
  {
   "cell_type": "markdown",
   "id": "2163d43f",
   "metadata": {},
   "source": [
    "# Basic Callback Learner"
   ]
  },
  {
   "cell_type": "code",
   "execution_count": 85,
   "id": "ad94a9e0",
   "metadata": {},
   "outputs": [],
   "source": [
    "#| export\n",
    "import torch.optim as optim\n",
    "import torch\n",
    "import torchvision.transforms.functional as TF\n",
    "import torch.nn as nn\n",
    "import torch.nn.functional as F\n",
    "from torch.utils.data import DataLoader\n",
    "from torch.utils.data import default_collate\n",
    "from torcheval.metrics import Mean, MulticlassAccuracy"
   ]
  },
  {
   "cell_type": "code",
   "execution_count": 84,
   "id": "d9a91560",
   "metadata": {},
   "outputs": [],
   "source": [
    "#| export\n",
    "from datasets import load_dataset\n",
    "from fastcore.all import *\n",
    "from fastprogress import progress_bar, master_bar\n"
   ]
  },
  {
   "cell_type": "code",
   "execution_count": 86,
   "id": "9cc31930",
   "metadata": {},
   "outputs": [],
   "source": [
    "#| export\n",
    "from operator import attrgetter\n",
    "from collections.abc import Mapping\n",
    "from operator import itemgetter\n",
    "from copy import copy\n",
    "from contextlib import contextmanager\n"
   ]
  },
  {
   "cell_type": "code",
   "execution_count": 32,
   "id": "e6da3c3b",
   "metadata": {},
   "outputs": [],
   "source": [
    "#| export\n",
    "def inplace(f):\n",
    "    def _f(b):\n",
    "        f(b)\n",
    "        return b\n",
    "    return _f"
   ]
  },
  {
   "cell_type": "code",
   "execution_count": 79,
   "id": "001cfe37",
   "metadata": {},
   "outputs": [],
   "source": [
    "#| export\n",
    "@inplace\n",
    "def transformi(b):\n",
    "    b[x] = [torch.flatten(TF.to_tensor(o)) for o in b[x]]"
   ]
  },
  {
   "cell_type": "code",
   "execution_count": null,
   "id": "3c6cfa82",
   "metadata": {},
   "outputs": [],
   "source": []
  },
  {
   "cell_type": "code",
   "execution_count": 34,
   "id": "602a87fc",
   "metadata": {},
   "outputs": [],
   "source": [
    "#| export\n",
    "def collate_dict(ds):\n",
    "    get = itemgetter(*ds.features)\n",
    "    def _f(b): return get(default_collate(b))\n",
    "    return _f"
   ]
  },
  {
   "cell_type": "code",
   "execution_count": 35,
   "id": "f059426f",
   "metadata": {},
   "outputs": [],
   "source": [
    "#| export\n",
    "def get_dls(train_ds, valid_ds, bs, **kwargs):\n",
    "    return (DataLoader(train_ds, batch_size=bs, shuffle=True, **kwargs),\n",
    "            DataLoader(valid_ds, batch_size=bs*2, **kwargs))"
   ]
  },
  {
   "cell_type": "code",
   "execution_count": 36,
   "id": "dbdc82f3",
   "metadata": {},
   "outputs": [],
   "source": [
    "#| export\n",
    "class DataLoaders:\n",
    "    def __init__(self, *dls): self.train,self.valid = dls[:2]\n",
    "\n",
    "    @classmethod\n",
    "    def from_dd(cls, dd, batch_size, as_tuple=True, **kwargs):\n",
    "        f = collate_dict(dd['train'])\n",
    "        return cls(*get_dls(*dd.values(), bs=batch_size, collate_fn=f, **kwargs))"
   ]
  },
  {
   "cell_type": "code",
   "execution_count": 37,
   "id": "74dd9e51",
   "metadata": {},
   "outputs": [],
   "source": [
    "#| export\n",
    "class with_cbs:\n",
    "\t\"Decorator to add callbacks to a function.\"\n",
    "\tdef __init__(self, nm): self.nm = nm\n",
    "\tdef __call__(self, f):\n",
    "\t\t\"Call the function with the callbacks.\"\n",
    "\t\tdef _f(o, *args, **kwargs):\n",
    "\t\t\t\"Try to run the function with the callbacks.\"\n",
    "\t\t\ttry:\n",
    "\t\t\t\t# First, we call the callback function with the name 'before_' followed by the name of the function we're decorating.\n",
    "\t\t\t\t# This allows us to execute any necessary setup or preprocessing before the function is called.\n",
    "\t\t\t\to.callback(f'before_{self.nm}')\n",
    "\t\t\t\t# Next, we call the original function with the provided arguments and keyword arguments.\n",
    "\t\t\t\t# This is where the actual work of the function is done.\n",
    "\t\t\t\tf(o, *args, **kwargs)\n",
    "\t\t\t\t# Finally, we call the callback function again, this time with the name 'after_' followed by the name of the function.\n",
    "\t\t\t\t# This allows us to execute any necessary cleanup or postprocessing after the function has been called.\n",
    "\t\t\t\to.callback(f'after_{self.nm}')\n",
    "\t\t\texcept globals()[f'Cancel{self.nm.title()}Exception']: pass\n",
    "\t\t\t# This line catches a specific exception that is dynamically generated based on the name of the function being decorated.\n",
    "\t\t\t# The exception name is constructed by concatenating 'Cancel' with the capitalized first letter of the function name.\n",
    "\t\t\t# If this exception is caught, the code simply passes, effectively ignoring the exception and not propagating it further.\n",
    "\t\treturn _f\n"
   ]
  },
  {
   "cell_type": "code",
   "execution_count": 94,
   "id": "2920a526",
   "metadata": {},
   "outputs": [
    {
     "name": "stderr",
     "output_type": "stream",
     "text": [
      "Using the latest cached version of the dataset since fashion_mnist couldn't be found on the Hugging Face Hub\n",
      "Found the latest cached dataset configuration 'fashion_mnist' at /home/hasan/.cache/huggingface/datasets/fashion_mnist/fashion_mnist/0.0.0/531be5e2ccc9dba0c201ad3ae567a4f3d16ecdd2 (last modified on Sun Oct 13 07:33:50 2024).\n"
     ]
    }
   ],
   "source": [
    "name = 'fashion_mnist'\n",
    "dsd = load_dataset(name)\n",
    "x, y = 'image', 'label'\n",
    "train_ds, valid_ds = dsd['train'], dsd['test']\n",
    "bs = 1024\n",
    "tsd = dsd.with_transform(transformi)\n",
    "dls = DataLoaders.from_dd(tsd, bs)\n",
    "def_device = 'mps' if torch.backends.mps.is_available() else 'cuda' if torch.cuda.is_available() else 'cpu'"
   ]
  },
  {
   "cell_type": "code",
   "execution_count": 39,
   "id": "53bef9ab",
   "metadata": {},
   "outputs": [],
   "source": [
    "#| export\n",
    "class CancelFitException(Exception): pass\n",
    "class CancelEpochException(Exception): pass\n",
    "class CancelBatchException(Exception): pass\n",
    "\n"
   ]
  },
  {
   "cell_type": "code",
   "execution_count": 58,
   "id": "f94b132b",
   "metadata": {},
   "outputs": [],
   "source": [
    "#| export\n",
    "def_device = 'mps' if torch.backends.mps.is_available() else 'cuda' if torch.cuda.is_available() else 'cpu'\n",
    "\n",
    "def to_device(x, device=def_device):\n",
    "    if isinstance(x, torch.Tensor): return x.to(device)\n",
    "    if isinstance(x, Mapping): return {k:v.to(device) for k,v in x.items()}\n",
    "    return type(x)(to_device(o, device) for o in x)"
   ]
  },
  {
   "cell_type": "code",
   "execution_count": 42,
   "id": "187e87e4",
   "metadata": {},
   "outputs": [],
   "source": [
    "#| export\n",
    "def run_cbs(cbs, method_nm):\n",
    "\tfor cb in sorted(cbs, key=attrgetter('order')):\n",
    "\t\tmethod = getattr(cb, method_nm, None)\n",
    "\t\tif method is not None: method()"
   ]
  },
  {
   "cell_type": "code",
   "execution_count": 43,
   "id": "4267dd10",
   "metadata": {},
   "outputs": [],
   "source": [
    "class CallBack():\n",
    "\torder = 0\n"
   ]
  },
  {
   "cell_type": "code",
   "execution_count": 44,
   "id": "632a5585",
   "metadata": {},
   "outputs": [],
   "source": [
    "#| export\n",
    "class CancelBatchException(Exception): pass\n",
    "class CancelEpochException(Exception): pass\n",
    "class CancelFitException(Exception): pass\n"
   ]
  },
  {
   "cell_type": "code",
   "execution_count": 59,
   "id": "1127ab43",
   "metadata": {},
   "outputs": [],
   "source": [
    "#| export\n",
    "class BasicCallbackLearner:\n",
    "    def __init__(self, model, dls, loss_func, cbs, opt_func=optim.SGD, lr=1e-1):\n",
    "        store_attr()\n",
    "\n",
    "        # Here we're looping through each callback in self.cbs and setting its learn attribute to self, \n",
    "        # which is the current CallbackLearner instance. This allows each callback to access the learner.\n",
    "        for cb in self.cbs: cb.learn = self\n",
    "\n",
    "    def one_batch(self):\n",
    "        self.preds = self.model(self.batch[0])\n",
    "        self.loss = self.loss_func(self.preds, self.batch[1])\n",
    "        if self.model.training:\n",
    "            self.loss.backward()\n",
    "            self.opt.step()\n",
    "            self.opt.zero_grad()\n",
    "\n",
    "    def one_epoch(self, train):\n",
    "        self.model.train(train)\n",
    "        self.dl = self.dls.train if train else self.dls.valid\n",
    "        try: \n",
    "            self.callback('before_epoch')\n",
    "            for self.iter, self.batch in enumerate(self.dl):\n",
    "                try:\n",
    "                    self.callback('before_batch')\n",
    "                    self.one_batch()\n",
    "                    self.callback('after_batch')\n",
    "                except CancelBatchException: pass\n",
    "            self.callback('after_epoch')\n",
    "        except CancelEpochException: pass\n",
    "\n",
    "    def fit(self, n_epochs):\n",
    "        self.n_epochs = n_epochs\n",
    "        self.epochs = range(n_epochs)\n",
    "        self.opt = self.opt_func(self.model.parameters(), self.lr)\n",
    "        try: \n",
    "            self.callback('before_fit')\n",
    "            for self.epoch in self.epochs:\n",
    "                self.one_epoch(True)\n",
    "                with torch.no_grad():\n",
    "                    self.one_epoch(False)\n",
    "            self.callback('after_fit')\n",
    "        except CancelFitException: pass\n",
    "    \n",
    "    def callback(self, method_nm):\n",
    "        run_cbs(self.cbs, method_nm)\n"
   ]
  },
  {
   "cell_type": "markdown",
   "id": "bb55e440",
   "metadata": {},
   "source": [
    "### Basic Callback Testing"
   ]
  },
  {
   "cell_type": "code",
   "execution_count": 60,
   "id": "b7ffdbe0",
   "metadata": {},
   "outputs": [],
   "source": [
    "class CallBack:\n",
    "\torder = 0\n"
   ]
  },
  {
   "cell_type": "code",
   "execution_count": 61,
   "id": "61930174",
   "metadata": {},
   "outputs": [],
   "source": [
    "class CompletionCallback(CallBack):\n",
    "\tdef before_fit(self): self.count = 0\n",
    "\tdef after_batch(self): self.count += 1\n",
    "\tdef after_fit(self): print(f'Completed {self.count} batches')\n",
    "\n"
   ]
  },
  {
   "cell_type": "code",
   "execution_count": 62,
   "id": "473a18bc",
   "metadata": {},
   "outputs": [
    {
     "name": "stdout",
     "output_type": "stream",
     "text": [
      "Completed 1 batches\n"
     ]
    }
   ],
   "source": [
    "cbs = CompletionCallback()\n",
    "cbs.before_fit()\n",
    "cbs.after_batch()\n",
    "cbs.after_fit()\n"
   ]
  },
  {
   "cell_type": "code",
   "execution_count": 63,
   "id": "8057b227",
   "metadata": {},
   "outputs": [],
   "source": [
    "#| export\n",
    "m, nh = 28*28, 50\n",
    "def get_model():\n",
    "\tmodel = nn.Sequential(nn.Linear(m, nh),nn.ReLU(), nn.Linear(nh, 10))\n",
    "\treturn model\n",
    "\n"
   ]
  },
  {
   "cell_type": "code",
   "execution_count": null,
   "id": "1af123df",
   "metadata": {},
   "outputs": [],
   "source": []
  },
  {
   "cell_type": "code",
   "execution_count": 36,
   "id": "35ed8b19",
   "metadata": {},
   "outputs": [
    {
     "name": "stdout",
     "output_type": "stream",
     "text": [
      "Completed 1017 batches\n"
     ]
    }
   ],
   "source": [
    "model = get_model()\n",
    "learn = BasicCallbackLearner(model, dls, loss_func=F.cross_entropy, cbs=[CompletionCallback()\n",
    "                                                                  ])\n",
    "learn.fit(1)"
   ]
  },
  {
   "cell_type": "markdown",
   "id": "f3896d9a",
   "metadata": {},
   "source": [
    "#### Lets check a single batch callback\n",
    "\n"
   ]
  },
  {
   "cell_type": "code",
   "execution_count": 41,
   "id": "ec43ee08",
   "metadata": {},
   "outputs": [
    {
     "ename": "NameError",
     "evalue": "name 'run_cbs' is not defined",
     "output_type": "error",
     "traceback": [
      "\u001b[0;31m---------------------------------------------------------------------------\u001b[0m",
      "\u001b[0;31mNameError\u001b[0m                                 Traceback (most recent call last)",
      "Cell \u001b[0;32mIn[41], line 8\u001b[0m\n\u001b[1;32m      6\u001b[0m cbs \u001b[38;5;241m=\u001b[39m [SingleBatchCallback(), CompletionCallback()]\n\u001b[1;32m      7\u001b[0m learn \u001b[38;5;241m=\u001b[39m BasicCallbackLearner(model, dls, loss_func\u001b[38;5;241m=\u001b[39mF\u001b[38;5;241m.\u001b[39mcross_entropy, cbs\u001b[38;5;241m=\u001b[39mcbs)\n\u001b[0;32m----> 8\u001b[0m \u001b[43mlearn\u001b[49m\u001b[38;5;241;43m.\u001b[39;49m\u001b[43mfit\u001b[49m\u001b[43m(\u001b[49m\u001b[38;5;241;43m1\u001b[39;49m\u001b[43m)\u001b[49m\n",
      "Cell \u001b[0;32mIn[19], line 37\u001b[0m, in \u001b[0;36mBasicCallbackLearner.fit\u001b[0;34m(self, n_epochs)\u001b[0m\n\u001b[1;32m     35\u001b[0m \u001b[38;5;28mself\u001b[39m\u001b[38;5;241m.\u001b[39mopt \u001b[38;5;241m=\u001b[39m \u001b[38;5;28mself\u001b[39m\u001b[38;5;241m.\u001b[39mopt_func(\u001b[38;5;28mself\u001b[39m\u001b[38;5;241m.\u001b[39mmodel\u001b[38;5;241m.\u001b[39mparameters(), \u001b[38;5;28mself\u001b[39m\u001b[38;5;241m.\u001b[39mlr)\n\u001b[1;32m     36\u001b[0m \u001b[38;5;28;01mtry\u001b[39;00m: \n\u001b[0;32m---> 37\u001b[0m     \u001b[38;5;28;43mself\u001b[39;49m\u001b[38;5;241;43m.\u001b[39;49m\u001b[43mcallback\u001b[49m\u001b[43m(\u001b[49m\u001b[38;5;124;43m'\u001b[39;49m\u001b[38;5;124;43mbefore_fit\u001b[39;49m\u001b[38;5;124;43m'\u001b[39;49m\u001b[43m)\u001b[49m\n\u001b[1;32m     38\u001b[0m     \u001b[38;5;28;01mfor\u001b[39;00m \u001b[38;5;28mself\u001b[39m\u001b[38;5;241m.\u001b[39mepoch \u001b[38;5;129;01min\u001b[39;00m \u001b[38;5;28mself\u001b[39m\u001b[38;5;241m.\u001b[39mepochs:\n\u001b[1;32m     39\u001b[0m         \u001b[38;5;28mself\u001b[39m\u001b[38;5;241m.\u001b[39mone_epoch(\u001b[38;5;28;01mTrue\u001b[39;00m)\n",
      "Cell \u001b[0;32mIn[19], line 46\u001b[0m, in \u001b[0;36mBasicCallbackLearner.callback\u001b[0;34m(self, method_nm)\u001b[0m\n\u001b[1;32m     45\u001b[0m \u001b[38;5;28;01mdef\u001b[39;00m \u001b[38;5;21mcallback\u001b[39m(\u001b[38;5;28mself\u001b[39m, method_nm):\n\u001b[0;32m---> 46\u001b[0m     \u001b[43mrun_cbs\u001b[49m(\u001b[38;5;28mself\u001b[39m\u001b[38;5;241m.\u001b[39mcbs, method_nm)\n",
      "\u001b[0;31mNameError\u001b[0m: name 'run_cbs' is not defined"
     ]
    }
   ],
   "source": [
    "class SingleBatchCallback(CallBack):\n",
    "    order = 1 # make it first\n",
    "    def after_batch(self):\n",
    "        raise CancelEpochException\n",
    "\n",
    "cbs = [SingleBatchCallback(), CompletionCallback()]\n",
    "learn = BasicCallbackLearner(model, dls, loss_func=F.cross_entropy, cbs=cbs)\n",
    "learn.fit(1)\n"
   ]
  },
  {
   "cell_type": "code",
   "execution_count": 64,
   "id": "d008d6e7",
   "metadata": {},
   "outputs": [],
   "source": [
    "#| export\n",
    "class Metric:\n",
    "    def __init__(self):\n",
    "        self.reset()\n",
    "\n",
    "    def reset(self):\n",
    "        self.vals, self.ns = [], []\n",
    "\n",
    "    def add(self, inp, targ=None, n=1):\n",
    "        self.last = self.calc(inp, targ)\n",
    "        self.vals.append(self.last)\n",
    "        self.ns.append(n)\n",
    "\n",
    "    @property\n",
    "    def value(self):\n",
    "        ns = torch.tensor(self.ns)\n",
    "        return (torch.tensor(self.vals)*ns).sum()/ns.sum()\n",
    "\n",
    "    def calc(self, inp, targ):\n",
    "        return inp\n"
   ]
  },
  {
   "cell_type": "code",
   "execution_count": 65,
   "id": "c8517f14",
   "metadata": {},
   "outputs": [],
   "source": [
    "#| export\n",
    "class Accuracy(Metric):\n",
    "    def calc(self, inp, targ):\n",
    "        return (inp == targ).float().mean()\n",
    "\n"
   ]
  },
  {
   "cell_type": "code",
   "execution_count": 66,
   "id": "b701b0f1",
   "metadata": {},
   "outputs": [],
   "source": [
    "#| export\n",
    "class DeviceCB(CallBack):\n",
    "    def __init__(self, device=def_device): store_attr()\n",
    "    def before_fit(self):\n",
    "        self.learn.model.to(self.device)\n",
    "    def before_batch(self):\n",
    "        self.learn.batch = to_device(self.learn.batch)\n"
   ]
  },
  {
   "cell_type": "code",
   "execution_count": 67,
   "id": "d671ee8e",
   "metadata": {},
   "outputs": [],
   "source": [
    "from torcheval.metrics import MulticlassAccuracy"
   ]
  },
  {
   "cell_type": "code",
   "execution_count": 42,
   "id": "b572ca9c",
   "metadata": {},
   "outputs": [],
   "source": [
    "metrics = MulticlassAccuracy(num_classes=3)"
   ]
  },
  {
   "cell_type": "code",
   "execution_count": 43,
   "id": "4dd30291",
   "metadata": {},
   "outputs": [
    {
     "data": {
      "text/plain": [
       "tensor(0.6667)"
      ]
     },
     "execution_count": 43,
     "metadata": {},
     "output_type": "execute_result"
    }
   ],
   "source": [
    "metrics.update(torch.tensor([0, 1, 2]), torch.tensor([0, 1, 3]))\n",
    "metrics.compute()\n"
   ]
  },
  {
   "cell_type": "code",
   "execution_count": 44,
   "id": "7060201c",
   "metadata": {},
   "outputs": [
    {
     "data": {
      "text/plain": [
       "tensor(nan)"
      ]
     },
     "execution_count": 44,
     "metadata": {},
     "output_type": "execute_result"
    }
   ],
   "source": [
    "metrics.reset()\n",
    "metrics.compute()\n"
   ]
  },
  {
   "cell_type": "code",
   "execution_count": 68,
   "id": "d2797aac",
   "metadata": {},
   "outputs": [],
   "source": [
    "#| export\n",
    "def to_cpu(x):\n",
    "\tif isinstance(x, Mapping): return {k:to_cpu(v) for k,v in x.items()}\n",
    "\tif isinstance(x, list): return [to_cpu(o) for o in x]\n",
    "\tif isinstance(x, tuple): return tuple(to_cpu(o) for o in x)\n",
    "\treturn x.detach().cpu()"
   ]
  },
  {
   "cell_type": "code",
   "execution_count": 77,
   "id": "9c14b214",
   "metadata": {},
   "outputs": [],
   "source": [
    "class MetricsCB(CallBack):\n",
    "\tdef __init__(self, *ms, **metrics):\n",
    "\t\t# Iterate through the list of metrics (ms) and add each metric to the metrics dictionary.\n",
    "\t\t# The key for each metric is the name of its class, and the value is the metric object itself.\n",
    "\t\tfor o in ms: metrics[type(o).__name__] = o\n",
    "\t\t# Assign the metrics dictionary to the instance variable self.metrics.\n",
    "\t\tself.metrics = metrics\n",
    "\t\t# Create a copy of the metrics dictionary and assign it to the instance variable self.all_metrics.\n",
    "\t\t# This is done to keep track of all metrics, including the 'loss' metric which is added later.\n",
    "\t\tself.all_metrics = copy(metrics)\n",
    "\t\t# Add a 'loss' metric to the self.all_metrics dictionary. The 'loss' metric is an instance of the Mean class.\n",
    "\t\t# This 'loss' metric is also assigned to the instance variable self.loss.\n",
    "\t\tself.all_metrics['loss'] = self.loss = Mean()\n",
    "\n",
    "\tdef _log(self, d):\n",
    "\t\tprint(d)\n",
    "\n",
    "\tdef before_fit(self):\n",
    "\t\tself.learn.metrics = self\n",
    "\n",
    "\tdef before_epoch(self):\n",
    "\t\t[m.reset() for m in self.all_metrics.values()]\n",
    "\n",
    "\tdef after_epoch(self):\n",
    "\t\tlog = {k:f'{m.compute():.3f}' for k,m in self.all_metrics.items()}\n",
    "\t\tlog['epoch'] = self.learn.epoch\n",
    "\t\tlog['train'] = self.learn.model.training\n",
    "\t\tself._log(log)\n",
    "\n",
    "\tdef after_batch(self):\n",
    "\t\tx,y = to_cpu(self.learn.batch)\n",
    "\t\tfor m in self.metrics.values(): m.update(to_cpu(self.learn.preds), y)\n",
    "\t\tself.loss.update(to_cpu(self.learn.loss), weight=len(x))\n"
   ]
  },
  {
   "cell_type": "code",
   "execution_count": 75,
   "id": "425a470f",
   "metadata": {},
   "outputs": [],
   "source": [
    "#|export\n",
    "class MetricsCB(CallBack):\n",
    "    def __init__(self, *ms, **metrics):\n",
    "        for o in ms: metrics[type(o).__name__] = o\n",
    "        self.metrics = metrics\n",
    "        self.all_metrics = copy(metrics)\n",
    "        self.all_metrics['loss'] = self.loss = Mean()\n",
    "\n",
    "    def _log(self, d): print(d)\n",
    "    def before_fit(self): self.learn.metrics = self\n",
    "    def before_epoch(self): [o.reset() for o in self.all_metrics.values()]\n",
    "\n",
    "    def after_epoch(self):\n",
    "        log = {k:f'{v.compute():.3f}' for k,v in self.all_metrics.items()}\n",
    "        log['epoch'] = self.learn.epoch\n",
    "        log['train'] = 'train' if self.learn.model.training else 'eval'\n",
    "        self._log(log)\n",
    "\n",
    "    def after_batch(self):\n",
    "        x,y= to_cpu(self.learn.batch)\n",
    "        for m in self.metrics.values(): m.update(to_cpu(self.learn.preds), y)\n",
    "        self.loss.update(to_cpu(self.learn.loss), weight=len(x))"
   ]
  },
  {
   "cell_type": "code",
   "execution_count": 78,
   "id": "4e11ab87",
   "metadata": {},
   "outputs": [
    {
     "name": "stdout",
     "output_type": "stream",
     "text": [
      "{'accuracy': '0.778', 'loss': '0.635', 'epoch': 0, 'train': True}\n",
      "{'accuracy': '0.820', 'loss': '0.513', 'epoch': 0, 'train': False}\n"
     ]
    }
   ],
   "source": [
    "model = get_model()\n",
    "metrics = MetricsCB(accuracy=MulticlassAccuracy())\n",
    "learn = BasicCallbackLearner(\n",
    "    model, dls, loss_func=F.cross_entropy, cbs=[DeviceCB(), metrics])\n",
    "learn.fit(1)"
   ]
  },
  {
   "cell_type": "markdown",
   "id": "122ba237",
   "metadata": {},
   "source": [
    "# Flexible Learner"
   ]
  },
  {
   "cell_type": "code",
   "execution_count": 81,
   "id": "2255042e",
   "metadata": {},
   "outputs": [],
   "source": [
    "#| export\n",
    "class FlexibleLearner:\n",
    "    def __init__(self, model, dls, loss_func, cbs, opt_func=optim.SGD, lr=1e-1):\n",
    "        # Initialize the FlexibleLearner with the provided parameters and set default values for opt_func and lr.\n",
    "        store_attr()\n",
    "\n",
    "        # Loop through each callback in self.cbs and set its learn attribute to self, \n",
    "        # which is the current FlexibleLearner instance. This allows each callback to access the learner.\n",
    "        for cb in self.cbs: \n",
    "            cb.learn = self\n",
    "\n",
    "    @contextmanager\n",
    "    def callback_ctx(self, method_nm):\n",
    "        # This line starts a try block to handle any exceptions that might occur during the execution of the context manager.\n",
    "        try: \n",
    "            # This line calls the callback method with a string that prepends 'before_' to the method name provided.\n",
    "            self.callback(f'before_{method_nm}')\n",
    "            # This line yields control to the code block that uses this context manager.\n",
    "            yield\n",
    "            # This line calls the callback method with a string that prepends 'after_' to the method name provided.\n",
    "            self.callback(f'after_{method_nm}')\n",
    "        # This line catches a specific exception based on the method name provided, and if caught, it simply passes without doing anything.\n",
    "        except globals()[f'Cancel{method_nm.title()}Exception']: \n",
    "            pass\n",
    "\n",
    "    def one_epoch(self, train):\n",
    "        # Set the model to training mode if train is True, otherwise set it to evaluation mode.\n",
    "        self.model.train(train)\n",
    "        # Select the appropriate data loader based on the train flag.\n",
    "        self.dl = self.dls.train if train else self.dls.valid\n",
    "        # Use the callback context manager to handle 'before_epoch' and 'after_epoch' callbacks.\n",
    "        with self.callback_ctx('epoch'):\n",
    "            # Iterate over the data loader.\n",
    "            for self.iter, self.batch in enumerate(self.dl):\n",
    "                # Use the callback context manager to handle 'before_batch' and 'after_batch' callbacks.\n",
    "                with self.callback_ctx('batch'):\n",
    "                    # Predict the output for the current batch.\n",
    "                    self.predict()\n",
    "                    # Calculate the loss for the current batch.\n",
    "                    self.get_loss()\n",
    "                    # If the model is in training mode, perform the backward pass, update the model parameters, and reset gradients.\n",
    "                    if self.model.training:\n",
    "                        self.backward()\n",
    "                        self.step()\n",
    "                        self.zero_grad()\n",
    "\n",
    "    def fit(self, n_epochs):\n",
    "        # Set the number of epochs and create a range object for iteration.\n",
    "        self.n_epochs = n_epochs\n",
    "        self.epochs = range(n_epochs)\n",
    "        # Initialize the optimizer with the model parameters and learning rate.\n",
    "        self.opt = self.opt_func(self.model.parameters(), self.lr)\n",
    "        # Use the callback context manager to handle 'before_fit' and 'after_fit' callbacks.\n",
    "        with self.callback_ctx('fit'):\n",
    "            # Iterate over the epochs.\n",
    "            for self.epoch in self.epochs:\n",
    "                # Perform one epoch of training.\n",
    "                self.one_epoch(True)\n",
    "                # Perform one epoch of validation without gradients.\n",
    "                with torch.no_grad():\n",
    "                    self.one_epoch(False)\n",
    "\n",
    "    def __getattr__(self, name):\n",
    "        # If the attribute is one of the specified methods, return a partial function that calls the callback method with the attribute name.\n",
    "        if name in ('predict', 'get_loss', 'backward', 'step', 'zero_grad'):\n",
    "            return partial(self.callback, name)\n",
    "        # If the attribute is not recognized, raise an AttributeError.\n",
    "        raise AttributeError(name)\n",
    "    \n",
    "    def callback(self, method_nm):\n",
    "        # Call the run_cbs function to execute callbacks for the specified method name.\n",
    "        run_cbs(self.cbs, method_nm)\n"
   ]
  },
  {
   "cell_type": "code",
   "execution_count": 82,
   "id": "d1db329a",
   "metadata": {},
   "outputs": [],
   "source": [
    "#| export\n",
    "class TrainCB(CallBack):\n",
    "\tdef predict(self):\n",
    "\t\tself.learn.preds = self.learn.model(self.learn.batch[0])\n",
    "\tdef get_loss(self):\n",
    "\t\tself.learn.loss = self.learn.loss_func(self.learn.preds, self.learn.batch[1])\n",
    "\tdef backward(self):\n",
    "\t\tself.learn.loss.backward()\n",
    "\tdef step(self):\n",
    "\t\tself.learn.opt.step()\n",
    "\tdef zero_grad(self):\n",
    "\t\tself.learn.opt.zero_grad()"
   ]
  },
  {
   "cell_type": "code",
   "execution_count": null,
   "id": "56a05f44",
   "metadata": {},
   "outputs": [],
   "source": [
    "class ProgressCB(Callback):\n",
    "    order = MetricsCB.order+1\n",
    "    def __init__(self, plot=False): self.plot = plot\n",
    "    def before_fit(self):\n",
    "        self.learn.epochs = self.mbar = master_bar(learn.epochs)\n",
    "        self.first = True\n",
    "        if hasattr(learn, 'metrics'): learn.metrics._log = self._log\n",
    "        self.losses = []\n",
    "        self.val_losses = []\n",
    "\n",
    "    def _log(self, d):\n",
    "        if self.first:\n",
    "            self.mbar.write(list(d), table=True)\n",
    "            self.first = False\n",
    "        self.mbar.write(list(d.values()), table=True)\n",
    "\n",
    "    def before_epoch(self, learn): learn.dl = progress_bar(learn.dl, leave=False, parent=self.mbar)\n",
    "    def after_batch(self, learn):\n",
    "        learn.dl.comment = f'{learn.loss:.3f}'\n",
    "        if self.plot and hasattr(learn, 'metrics') and learn.training:\n",
    "            self.losses.append(learn.loss.item())\n",
    "            if self.val_losses: self.mbar.update_graph([[fc.L.range(self.losses), self.losses],[fc.L.range(learn.epoch).map(lambda x: (x+1)*len(learn.dls.train)), self.val_losses]])\n",
    "    \n",
    "    def after_epoch(self, learn): \n",
    "        if not learn.training:\n",
    "            if self.plot and hasattr(learn, 'metrics'): \n",
    "                self.val_losses.append(learn.metrics.all_metrics['loss'].compute())\n",
    "                self.mbar.update_graph([[fc.L.range(self.losses), self.losses],[fc.L.range(learn.epoch+1).map(lambda x: (x+1)*len(learn.dls.train)), self.val_losses]])"
   ]
  },
  {
   "cell_type": "code",
   "execution_count": 99,
   "id": "ca5929e3",
   "metadata": {},
   "outputs": [],
   "source": [
    "#| export\n",
    "class ProgressCB(CallBack):\n",
    "\torder = MetricsCB.order + 1\n",
    "\tdef __init__(self, plot=True): store_attr()\n",
    "\tdef before_fit(self): \n",
    "\t\tself.learn.epochs = self.mbar = master_bar(self.learn.epochs)\n",
    "\t\tif hasattr(self.learn, 'metrics'): \n",
    "\t\t\tself.learn.metrics._log = self._log\n",
    "\t\tself.losses = []\n",
    "\n",
    "\tdef _log(self, d):\n",
    "\t\tself.mbar.write(str(d))\n",
    "\n",
    "\tdef before_epoch(self):\n",
    "\t\tself.learn.dl = progress_bar(\n",
    "\t\t\tself.learn.dl, leave=False, parent=self.mbar)\n",
    "\n",
    "\tdef after_batch(self):\n",
    "\t\tself.learn.dl.comment = f'{self.learn.loss:.3f}'\n",
    "\t\tif self.plot and hasattr(self.learn, 'metrics') and self.learn.model.training:\n",
    "\t\t\tself.losses.append(self.learn.loss.item())\n",
    "\t\t\tself.mbar.update_graph(\n",
    "\t\t\t\t[[L.range(self.losses), self.losses]])\n"
   ]
  },
  {
   "cell_type": "code",
   "execution_count": null,
   "id": "8b8c3237",
   "metadata": {},
   "outputs": [],
   "source": []
  },
  {
   "cell_type": "code",
   "execution_count": 100,
   "id": "1c8fcf9b",
   "metadata": {},
   "outputs": [
    {
     "data": {
      "text/html": [
       "\n",
       "<style>\n",
       "    /* Turns off some styling */\n",
       "    progress {\n",
       "        /* gets rid of default border in Firefox and Opera. */\n",
       "        border: none;\n",
       "        /* Needs to be in here for Safari polyfill so background images work as expected. */\n",
       "        background-size: auto;\n",
       "    }\n",
       "    progress:not([value]), progress:not([value])::-webkit-progress-bar {\n",
       "        background: repeating-linear-gradient(45deg, #7e7e7e, #7e7e7e 10px, #5c5c5c 10px, #5c5c5c 20px);\n",
       "    }\n",
       "    .progress-bar-interrupted, .progress-bar-interrupted::-webkit-progress-bar {\n",
       "        background: #F44336;\n",
       "    }\n",
       "</style>\n"
      ],
      "text/plain": [
       "<IPython.core.display.HTML object>"
      ]
     },
     "metadata": {},
     "output_type": "display_data"
    },
    {
     "data": {
      "text/html": [
       "\n",
       "    <div>\n",
       "      <progress value='0' class='' max='1' style='width:300px; height:20px; vertical-align: middle;'></progress>\n",
       "      0.00% [0/1 00:00&lt;?]\n",
       "    </div>\n",
       "    \n",
       "\n",
       "\n",
       "    <div>\n",
       "      <progress value='0' class='' max='59' style='width:300px; height:20px; vertical-align: middle;'></progress>\n",
       "      0.00% [0/59 00:00&lt;?]\n",
       "    </div>\n",
       "    "
      ],
      "text/plain": [
       "<IPython.core.display.HTML object>"
      ]
     },
     "metadata": {},
     "output_type": "display_data"
    },
    {
     "data": {
      "image/png": "[encoded data removed]",
      "text/plain": [
       "<Figure size 600x400 with 1 Axes>"
      ]
     },
     "metadata": {},
     "output_type": "display_data"
    }
   ],
   "source": [
    "metrics = MetricsCB(accuracy=MulticlassAccuracy())\n",
    "cbs = [TrainCB(), DeviceCB(), metrics, ProgressCB(plot=True)]\n",
    "learn = FlexibleLearner(\n",
    "    model, dls, loss_func=F.cross_entropy, cbs=cbs,lr=0.2\n",
    "    )\n",
    "learn.fit(1)"
   ]
  },
  {
   "cell_type": "code",
   "execution_count": null,
   "id": "f5b0016d",
   "metadata": {},
   "outputs": [],
   "source": []
  },
  {
   "cell_type": "markdown",
   "id": "0919169c",
   "metadata": {},
   "source": []
  },
  {
   "cell_type": "code",
   "execution_count": 47,
   "metadata": {},
   "outputs": [],
   "source": [
    "#| hide\n",
    "import nbdev; nbdev.nbdev_export('02_preprocessing.lesson_16.ipynb')"
   ]
  },
  {
   "cell_type": "code",
   "execution_count": null,
   "id": "65303c12",
   "metadata": {},
   "outputs": [],
   "source": []
  }
 ],
 "metadata": {
  "kernelspec": {
   "display_name": "miniai_env",
   "language": "python",
   "name": "python3"
  },
  "language_info": {
   "codemirror_mode": {
    "name": "ipython",
    "version": 3
   },
   "file_extension": ".py",
   "mimetype": "text/x-python",
   "name": "python",
   "nbconvert_exporter": "python",
   "pygments_lexer": "ipython3",
   "version": "3.10.14"
  }
 },
 "nbformat": 4,
 "nbformat_minor": 5
}
