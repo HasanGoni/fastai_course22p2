{
 "cells": [
  {
   "cell_type": "markdown",
   "metadata": {},
   "source": [
    "# Develop superres with Unet\n",
    "> Develop superres with UNet"
   ]
  },
  {
   "cell_type": "code",
   "execution_count": 1,
   "metadata": {},
   "outputs": [],
   "source": [
    "#| default_exp preprocessing.superres_with_unet"
   ]
  },
  {
   "cell_type": "code",
   "execution_count": 2,
   "metadata": {},
   "outputs": [],
   "source": [
    "#| hide\n",
    "%load_ext autoreload\n",
    "%autoreload 2\n"
   ]
  },
  {
   "cell_type": "code",
   "execution_count": 3,
   "metadata": {},
   "outputs": [],
   "source": [
    "#| export\n",
    "import sys\n",
    "from pathlib import Path\n"
   ]
  },
  {
   "cell_type": "code",
   "execution_count": 4,
   "metadata": {},
   "outputs": [],
   "source": [
    "#| export\n",
    "CV_TOOLS = Path(r'/home/ai_sintercra/homes/hasan/projects/git_data/cv_tools')\n",
    "sys.path.append(str(CV_TOOLS))\n"
   ]
  },
  {
   "cell_type": "code",
   "execution_count": 5,
   "metadata": {},
   "outputs": [],
   "source": [
    "#| export\n",
    "custom_lib_path = Path(r'/home/ai_warstein/homes/goni/custom_libs')\n",
    "sys.path.append(str(custom_lib_path))\n"
   ]
  },
  {
   "cell_type": "code",
   "execution_count": 6,
   "metadata": {},
   "outputs": [],
   "source": [
    "#| export\n",
    "from cv_tools.imports import *\n",
    "from cv_tools.core import *\n",
    "from dotenv import load_dotenv\n"
   ]
  },
  {
   "cell_type": "code",
   "execution_count": 7,
   "metadata": {},
   "outputs": [
    {
     "data": {
      "text/plain": [
       "False"
      ]
     },
     "execution_count": 7,
     "metadata": {},
     "output_type": "execute_result"
    }
   ],
   "source": [
    "#| export\n",
    "load_dotenv(dotenv_path=f'/home/ai_sintercra/Users/goni/workspace/projects/git_data/fastai_course22p2/fastai_course22p2/.env')"
   ]
  },
  {
   "cell_type": "code",
   "execution_count": 0,
   "metadata": {},
   "outputs": [],
   "source": []
  },
  {
   "cell_type": "code",
   "execution_count": 8,
   "metadata": {},
   "outputs": [],
   "source": [
    "#| export\n",
    "CURRETNT_NB='/home/ai_sintercra/Users/goni/workspace/projects/git_data/fastai_course22p2/nbs'"
   ]
  },
  {
   "cell_type": "code",
   "execution_count": 34,
   "id": "e27fc4b6",
   "metadata": {},
   "outputs": [],
   "source": [
    "#| export\n",
    "#----------------------------------\n",
    "import matplotlib.pyplot as plt\n",
    "import matplotlib as mpl\n",
    "from functools import partial\n",
    "from glob import glob\n",
    "import shutil"
   ]
  },
  {
   "cell_type": "code",
   "execution_count": 27,
   "id": "2a2933e1",
   "metadata": {},
   "outputs": [],
   "source": [
    "#| export\n",
    "# fastai fastcore relate\n",
    "from fastcore.all import *\n",
    "from fastprogress import progress_bar"
   ]
  },
  {
   "cell_type": "code",
   "execution_count": 48,
   "id": "f528dd96",
   "metadata": {},
   "outputs": [],
   "source": [
    "#| export\n",
    "# torch related\n",
    "import torch\n",
    "from torch import nn,tensor\n",
    "from torch.nn import init\n",
    "from torch.optim import lr_scheduler\n",
    "from torch import optim\n",
    "import torchvision.transforms as T\n",
    "import torchvision.transforms.functional as TF\n",
    "import torch.nn.functional as F\n",
    "\n",
    "from torchvision.io import read_image, ImageReadMode\n",
    "from torcheval.metrics import MulticlassAccuracy"
   ]
  },
  {
   "cell_type": "code",
   "execution_count": 29,
   "id": "7db5dabb",
   "metadata": {},
   "outputs": [],
   "source": [
    "#| export\n",
    "# huggingface\n",
    "from datasets import load_dataset\n"
   ]
  },
  {
   "cell_type": "code",
   "execution_count": 62,
   "id": "40dad650",
   "metadata": {},
   "outputs": [],
   "source": [
    "#| export\n",
    "#  miniai\n",
    "from miniai.datasets import *\n",
    "from miniai.conv import *\n",
    "from miniai.activations import *\n",
    "from miniai.init import *\n",
    "from miniai.sgd import *\n",
    "from miniai.resnet import *\n",
    "from miniai.accel import *\n",
    "from miniai.training import *\n",
    "from miniai.augment import *"
   ]
  },
  {
   "cell_type": "code",
   "execution_count": 31,
   "id": "32096823",
   "metadata": {},
   "outputs": [],
   "source": [
    "torch.set_printoptions(\n",
    "    precision=5,\n",
    "    linewidth=140,\n",
    "    sci_mode=False\n",
    ")\n",
    "torch.manual_seed(1)\n",
    "mpl.rcParams['figure.dpi']=70"
   ]
  },
  {
   "cell_type": "markdown",
   "id": "8d8c294f",
   "metadata": {},
   "source": [
    "# Data path"
   ]
  },
  {
   "cell_type": "code",
   "execution_count": 32,
   "id": "37d444b2",
   "metadata": {},
   "outputs": [],
   "source": [
    "DATA_PATH=os.getenv('DATA_PATH')\n",
    "tiny_imagenet_root = Path(DATA_PATH, 'tiny-imagenet-200')\n",
    "tiny_imagenet_root.mkdir(exist_ok=True, parents=True)"
   ]
  },
  {
   "cell_type": "code",
   "execution_count": 39,
   "id": "ef700525",
   "metadata": {},
   "outputs": [],
   "source": [
    "#| export\n",
    "def get_tiny_imagenet_data(\n",
    "    unzip:bool=True,\n",
    "    save_path:str=None\n",
    "    ):\n",
    "    'Get imagenet tiny data'\n",
    "    if not save_path:\n",
    "        save_path = Path('data')\n",
    "        Path(save_path).mkdir(exist_ok=True, parent=True)\n",
    "    url= \"http://cs231n.stanford.edu/tiny-imagenet-200.zip\"\n",
    "    zip_path = Path(save_path, 'tiny-imagenet-200.zip')\n",
    "    if not zip_path.exists():\n",
    "        print(f'Downloading {url} to {zip_path}')\n",
    "        urlsave(url, zip_path)\n",
    "    if unzip:\n",
    "        print(f'Unzipping {zip_path} to {save_path}')\n",
    "        shutil.unpack_archive(zip_path, save_path)"
   ]
  },
  {
   "cell_type": "code",
   "execution_count": 36,
   "id": "d4025040",
   "metadata": {},
   "outputs": [
    {
     "name": "stdout",
     "output_type": "stream",
     "text": [
      "Downloading http://cs231n.stanford.edu/tiny-imagenet-200.zip to C:\\Users\\goni\\workspace\\projects\\data\\tiny-imagenet-200\\tiny-imagenet-200.zip\n",
      "Unzipping C:\\Users\\goni\\workspace\\projects\\data\\tiny-imagenet-200\\tiny-imagenet-200.zip to C:\\Users\\goni\\workspace\\projects\\data\\tiny-imagenet-200\n"
     ]
    }
   ],
   "source": [
    "get_tiny_imagenet_data(unzip=True, save_path=tiny_imagenet_root)"
   ]
  },
  {
   "cell_type": "code",
   "execution_count": 43,
   "id": "c64d0867",
   "metadata": {},
   "outputs": [],
   "source": [
    "root_data = Path(tiny_imagenet_root, 'tiny-imagenet-200')"
   ]
  },
  {
   "cell_type": "code",
   "execution_count": 55,
   "id": "2d77b51a",
   "metadata": {},
   "outputs": [],
   "source": [
    "bs = 512\n",
    "xmean,xstd = (\n",
    "    tensor([0.47565, 0.40303, 0.31555]), \n",
    "    tensor([0.28858, 0.24402, 0.26615]))\n",
    "\n",
    "tfms = nn.Sequential(\n",
    "    T.Pad(8),\n",
    "    T.RandomCrop(64),\n",
    "    T.RandomHorizontalFlip(),\n",
    ")\n",
    "\n"
   ]
  },
  {
   "cell_type": "code",
   "execution_count": 51,
   "id": "2722def6",
   "metadata": {},
   "outputs": [],
   "source": [
    "#| export\n",
    "class TinyDS:\n",
    "    def __init__(self, root_data:Path):\n",
    "        self.root_data = root_data\n",
    "        self.files = glob(\n",
    "            str(root_data/'**/*.JPEG'),\n",
    "            recursive=True\n",
    "        )\n",
    "    __repr__ = basic_repr('root_data')\n",
    "    def __len__(self):\n",
    "        return len(self.files)\n",
    "    def __getitem__(self, idx):\n",
    "        img = read_image(self.files[idx], ImageReadMode.RGB)/255\n",
    "        img = (img - xmean[:, None, None])/xstd[:, None, None]\n",
    "        img = tfms(img)\n",
    "        return img\n"
   ]
  },
  {
   "cell_type": "code",
   "execution_count": 52,
   "id": "868e9667",
   "metadata": {},
   "outputs": [],
   "source": [
    "#| export\n",
    "class TfmDS:\n",
    "    def __init__(\n",
    "        self, \n",
    "        ds, \n",
    "        tfmx=noop,\n",
    "        tfmy=noop):\n",
    "        store_attr()\n",
    "\n",
    "    def __len__(self):\n",
    "        return len(self.ds)\n",
    "    def __getitem__(self, idx):\n",
    "        item = self.ds[idx]\n",
    "        x = self.tfmx(item)\n",
    "        y = self.tfmy(item)\n",
    "        return x, y\n",
    "    \n",
    "    "
   ]
  },
  {
   "cell_type": "code",
   "execution_count": 46,
   "id": "d8c429f8",
   "metadata": {},
   "outputs": [],
   "source": [
    "#| export\n",
    "def denorm(x):\n",
    "    return x*xstd[:, None, None] + xmean[:, None, None]\n"
   ]
  },
  {
   "cell_type": "code",
   "execution_count": 49,
   "id": "e83fcdc0",
   "metadata": {},
   "outputs": [],
   "source": [
    "#| export\n",
    "def tfmx(x, erase=True):\n",
    "    x =TF.resize(x, (32,32))[None]\n",
    "    x = F.interpolate(x, scale_factor=2)\n",
    "    if erase:\n",
    "        x = rand_erase(x)\n",
    "    return x[0]\n",
    "\n",
    "\n",
    "\n"
   ]
  },
  {
   "cell_type": "code",
   "execution_count": 58,
   "id": "04dd5721",
   "metadata": {},
   "outputs": [
    {
     "data": {
      "text/plain": [
       "torch.Size([3, 64, 64])"
      ]
     },
     "execution_count": 58,
     "metadata": {},
     "output_type": "execute_result"
    }
   ],
   "source": [
    "tds = TinyDS(root_data/'train')\n",
    "vds = TinyDS(root_data/'val')\n",
    "tds[0].shape"
   ]
  },
  {
   "cell_type": "code",
   "execution_count": 59,
   "id": "7c4c0ffb",
   "metadata": {},
   "outputs": [],
   "source": [
    "tfm_tds = TfmDS(tds, tfmx=tfmx)\n",
    "tfm_vds = TfmDS(vds, partial(tfmx, erase=False))"
   ]
  },
  {
   "cell_type": "code",
   "execution_count": 63,
   "id": "e1274d40",
   "metadata": {},
   "outputs": [
    {
     "data": {
      "text/plain": [
       "(torch.Size([3, 64, 64]), torch.Size([3, 64, 64]))"
      ]
     },
     "execution_count": 63,
     "metadata": {},
     "output_type": "execute_result"
    }
   ],
   "source": [
    "tfm_tds[0][0].shape, tfm_vds[0][0].shape"
   ]
  },
  {
   "cell_type": "code",
   "execution_count": 66,
   "id": "90a72269",
   "metadata": {},
   "outputs": [],
   "source": [
    "#| export\n",
    "dls = DataLoaders(*get_dls(\n",
    "    tfm_tds, \n",
    "    tfm_vds, \n",
    "    bs=bs,\n",
    "    num_workers=8))"
   ]
  },
  {
   "cell_type": "code",
   "execution_count": null,
   "id": "bd48ba07",
   "metadata": {},
   "outputs": [],
   "source": [
    "xb, yb = next(iter(dls.train))\n",
    "xb.shape, yb.shape\n",
    "denorm(xb[0]).shape\n",
    "\n",
    "\n",
    "\n"
   ]
  },
  {
   "cell_type": "code",
   "execution_count": null,
   "id": "dac12011",
   "metadata": {},
   "outputs": [],
   "source": [
    "show_images(denorm(xb[:4], im_size=2.5))"
   ]
  },
  {
   "cell_type": "code",
   "execution_count": null,
   "id": "a4f0b9e3",
   "metadata": {},
   "outputs": [],
   "source": [
    "show_images(denorm(yb[:4], im_size=2.5))"
   ]
  },
  {
   "cell_type": "markdown",
   "id": "bb65be96",
   "metadata": {},
   "source": [
    "# Denoising Autoencoder"
   ]
  },
  {
   "cell_type": "code",
   "execution_count": null,
   "id": "bc1e1165",
   "metadata": {},
   "outputs": [],
   "source": [
    "#| export\n",
    "def up_block(\n",
    "    ni, \n",
    "    nf, \n",
    "    ks=3, \n",
    "    act=act_gr, \n",
    "    norm=None):\n",
    "    return Sequential(\n",
    "        nn.UpsampleNearest2d(scale_factor=2),\n",
    "        ResBlock(ni, nf, ks=ks, act=act_gr, norm=norm),\n",
    "    )\n",
    "\n",
    "\n"
   ]
  },
  {
   "cell_type": "code",
   "execution_count": null,
   "id": "65e47413",
   "metadata": {},
   "outputs": [],
   "source": [
    "#| export\n",
    "iw = partial(init_weights, leaky=0.1)\n"
   ]
  },
  {
   "cell_type": "code",
   "execution_count": null,
   "id": "eea58019",
   "metadata": {},
   "outputs": [],
   "source": [
    "torch.cuda.is_available()"
   ]
  },
  {
   "cell_type": "code",
   "execution_count": null,
   "id": "9cb318fb",
   "metadata": {},
   "outputs": [],
   "source": [
    "metrics = MetricsCB()\n",
    "cbs = [DeviceCB(), metrics, ProgressCB(plot=True), MixedPrecision()]\n",
    "lr_cbs = [DeviceCB(), ProgressCB(), MixedPrecision()]\n",
    "opt_func = partial(optim.AdamW, eps=1e-5)"
   ]
  },
  {
   "cell_type": "code",
   "execution_count": null,
   "id": "6f97d4e5",
   "metadata": {},
   "outputs": [],
   "source": [
    "get_model"
   ]
  },
  {
   "cell_type": "code",
   "execution_count": null,
   "id": "5b402e9d",
   "metadata": {},
   "outputs": [],
   "source": [
    "Learner(get_model().apply(iw),dls, F.mse_loss, cbs=lr_cbs,opt_func=opt_func).lr_find(start_lr=1e-4, gamma=1.2)"
   ]
  },
  {
   "cell_type": "code",
   "execution_count": 9,
   "metadata": {},
   "outputs": [],
   "source": [
    "#| hide\n",
    "import nbdev; nbdev.nbdev_export('09_preprocessing.superres_with_unet.ipynb')"
   ]
  },
  {
   "cell_type": "code",
   "execution_count": null,
   "id": "22c9cf12",
   "metadata": {},
   "outputs": [],
   "source": []
  }
 ],
 "metadata": {
  "kernelspec": {
   "display_name": "base",
   "language": "python",
   "name": "python3"
  },
  "language_info": {
   "codemirror_mode": {
    "name": "ipython",
    "version": 3
   },
   "file_extension": ".py",
   "mimetype": "text/x-python",
   "name": "python",
   "nbconvert_exporter": "python",
   "pygments_lexer": "ipython3",
   "version": "3.12.8"
  }
 },
 "nbformat": 4,
 "nbformat_minor": 5
}
