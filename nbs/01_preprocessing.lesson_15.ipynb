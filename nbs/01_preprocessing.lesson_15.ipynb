{
 "cells": [
  {
   "cell_type": "code",
   "execution_count": 12,
   "metadata": {},
   "outputs": [],
   "source": [
    "#| default_exp preprocessing.lesson15"
   ]
  },
  {
   "cell_type": "markdown",
   "metadata": {},
   "source": [
    "# Lesson15 Scripts\n",
    "> Reproducing lesson 15"
   ]
  },
  {
   "cell_type": "code",
   "execution_count": 13,
   "metadata": {},
   "outputs": [],
   "source": [
    "#| hide\n",
    "%load_ext autoreload\n",
    "%autoreload 2"
   ]
  },
  {
   "cell_type": "code",
   "execution_count": 14,
   "metadata": {},
   "outputs": [],
   "source": [
    "#| export\n",
    "from cv_tools.core import *\n"
   ]
  },
  {
   "cell_type": "markdown",
   "id": "2959d9fb",
   "metadata": {},
   "source": [
    "## learner[ 1:16:01]"
   ]
  },
  {
   "cell_type": "code",
   "execution_count": 109,
   "id": "b6575868",
   "metadata": {},
   "outputs": [],
   "source": [
    "import torch\n",
    "import torchvision.transforms.functional as TF\n",
    "import torch.nn as nn\n",
    "import torch.nn.functional as F\n",
    "import torch.optim as optim\n",
    "from collections.abc import Mapping"
   ]
  },
  {
   "cell_type": "code",
   "execution_count": 16,
   "id": "f78cb22d",
   "metadata": {},
   "outputs": [],
   "source": [
    "from datasets import load_dataset, load_dataset_builder"
   ]
  },
  {
   "cell_type": "code",
   "execution_count": 17,
   "id": "3e0ff866",
   "metadata": {},
   "outputs": [],
   "source": [
    "torch.set_printoptions(precision=2, linewidth=140, sci_mode=False)\n",
    "torch.manual_seed(1)\n",
    "\n",
    "import logging\n",
    "logging.disable(logging.WARNING)"
   ]
  },
  {
   "cell_type": "code",
   "execution_count": 18,
   "id": "1edd10e9",
   "metadata": {},
   "outputs": [],
   "source": [
    "name = 'fashion_mnist'\n",
    "dsd = load_dataset(name)\n",
    "x, y = 'image', 'label'\n"
   ]
  },
  {
   "cell_type": "code",
   "execution_count": 76,
   "id": "24e294d7",
   "metadata": {},
   "outputs": [],
   "source": [
    "from miniai.datasets import *\n",
    "from operator import itemgetter\n",
    "from torch.utils.data import default_collate\n",
    "from torch.utils.data import DataLoader\n",
    "from fastcore.all import *\n",
    "from miniai.training import *"
   ]
  },
  {
   "cell_type": "code",
   "execution_count": 23,
   "id": "c3c957f9",
   "metadata": {},
   "outputs": [],
   "source": [
    "def inplace(f):\n",
    "    def _f(b):\n",
    "        f(b)\n",
    "        return b\n",
    "    return _f"
   ]
  },
  {
   "cell_type": "code",
   "execution_count": 40,
   "id": "44a6daf9",
   "metadata": {},
   "outputs": [],
   "source": [
    "@inplace\n",
    "def transformi(b):\n",
    "    b[x] = [torch.flatten(TF.to_tensor(o)) for o in b[x]]"
   ]
  },
  {
   "cell_type": "code",
   "execution_count": 41,
   "id": "de271f7b",
   "metadata": {},
   "outputs": [],
   "source": [
    "bs = 1024\n",
    "tsd = dsd.with_transform(transformi)"
   ]
  },
  {
   "cell_type": "code",
   "execution_count": 58,
   "id": "dca1f089",
   "metadata": {},
   "outputs": [
    {
     "data": {
      "text/plain": [
       "(28, 28)"
      ]
     },
     "execution_count": 58,
     "metadata": {},
     "output_type": "execute_result"
    }
   ],
   "source": [
    "dsd['train'][0][x].size"
   ]
  },
  {
   "cell_type": "code",
   "execution_count": 45,
   "id": "1e03519c",
   "metadata": {},
   "outputs": [
    {
     "data": {
      "text/plain": [
       "torch.Size([784])"
      ]
     },
     "execution_count": 45,
     "metadata": {},
     "output_type": "execute_result"
    }
   ],
   "source": [
    "tsd['train']['image'][1].shape\n"
   ]
  },
  {
   "cell_type": "code",
   "execution_count": null,
   "id": "4f17bac3",
   "metadata": {},
   "outputs": [],
   "source": [
    "def get_dls(train_ds, valid_ds, bs, **kwargs):\n",
    "    return (DataLoader(train_ds, batch_size=bs, shuffle=True, **kwargs),\n",
    "            DataLoader(valid_ds, batch_size=bs*2, **kwargs))"
   ]
  },
  {
   "cell_type": "code",
   "execution_count": 60,
   "id": "bd76a0fb",
   "metadata": {},
   "outputs": [
    {
     "data": {
      "text/plain": [
       "DatasetDict({\n",
       "    train: Dataset({\n",
       "        features: ['image', 'label'],\n",
       "        num_rows: 60000\n",
       "    })\n",
       "    test: Dataset({\n",
       "        features: ['image', 'label'],\n",
       "        num_rows: 10000\n",
       "    })\n",
       "})"
      ]
     },
     "execution_count": 60,
     "metadata": {},
     "output_type": "execute_result"
    }
   ],
   "source": [
    "tsd"
   ]
  },
  {
   "cell_type": "code",
   "execution_count": 61,
   "id": "b2794c12",
   "metadata": {},
   "outputs": [],
   "source": [
    "dls = get_dls(tsd['train'], tsd['test'], bs)"
   ]
  },
  {
   "cell_type": "code",
   "execution_count": 63,
   "id": "da9c3f16",
   "metadata": {},
   "outputs": [],
   "source": [
    "def collate_dict(ds):\n",
    "    get = itemgetter(*ds.features)\n",
    "    def _f(b): return get(default_collate(b))\n",
    "    return _f"
   ]
  },
  {
   "cell_type": "code",
   "execution_count": 64,
   "id": "434c172b",
   "metadata": {},
   "outputs": [],
   "source": [
    "class DataLoaders:\n",
    "    def __init__(self, *dls): self.train,self.valid = dls[:2]\n",
    "\n",
    "    @classmethod\n",
    "    def from_dd(cls, dd, batch_size, as_tuple=True, **kwargs):\n",
    "        f = collate_dict(dd['train'])\n",
    "        return cls(*get_dls(*dd.values(), bs=batch_size, collate_fn=f, **kwargs))"
   ]
  },
  {
   "cell_type": "code",
   "execution_count": 73,
   "id": "72eed15f",
   "metadata": {},
   "outputs": [],
   "source": [
    "from miniai.conv import *"
   ]
  },
  {
   "cell_type": "code",
   "execution_count": 74,
   "id": "e9d8a362",
   "metadata": {},
   "outputs": [
    {
     "name": "stdout",
     "output_type": "stream",
     "text": [
      "Object `Mapping` not found.\n"
     ]
    }
   ],
   "source": [
    "Mapping?"
   ]
  },
  {
   "cell_type": "code",
   "execution_count": 77,
   "id": "0ea0fa91",
   "metadata": {},
   "outputs": [],
   "source": [
    "def_device = 'mps' if torch.backends.mps.is_available() else 'cuda' if torch.cuda.is_available() else 'cpu'\n",
    "\n",
    "def to_device(x, device=def_device):\n",
    "    if isinstance(x, torch.Tensor): return x.to(device)\n",
    "    if isinstance(x, Mapping): return {k:v.to(device) for k,v in x.items()}\n",
    "    return type(x)(to_device(o, device) for o in x)"
   ]
  },
  {
   "cell_type": "code",
   "execution_count": 106,
   "id": "2360390e",
   "metadata": {},
   "outputs": [],
   "source": [
    "tds = dsd.with_transform(transformi)"
   ]
  },
  {
   "cell_type": "code",
   "execution_count": 114,
   "id": "f9e1c514",
   "metadata": {},
   "outputs": [],
   "source": [
    "class Learner:\n",
    "\tdef __init__(self, model, dls, loss_func, opt_func=optim.SGD, lr=1e-1):\n",
    "\t\tstore_attr()\n",
    "\n",
    "\tdef one_batch(self):\n",
    "\t\tself.xb, self.yb = to_device(self.batch)\n",
    "\t\tself.preds = self.model(self.xb)\n",
    "\t\tself.loss = self.loss_func(self.preds, self.yb)\n",
    "\t\tif self.model.training:\n",
    "\t\t\tself.loss.backward()\n",
    "\t\t\tself.opt.step()\n",
    "\t\t\tself.opt.zero_grad()\n",
    "\t\twith torch.no_grad():\n",
    "\t\t\tself.calc_stats()\n",
    "\t\n",
    "\tdef calc_stats(self):\n",
    "\t\tacc = (self.preds.argmax(dim=1).eq(self.yb).float().sum())\n",
    "\t\tself.accs.append(acc)\n",
    "\t\tn = len(self.yb)\n",
    "\t\tself.losses.append(self.loss*n)\n",
    "\t\tself.ns.append(n)\n",
    "\n",
    "\tdef one_epoch(self, train):\n",
    "\t\tself.model.training = train\n",
    "\t\tdl = self.dls.train if train else self.dls.valid\n",
    "\t\tfor self.num, self.batch in enumerate(dl):\n",
    "\t\t\tself.one_batch()\n",
    "\t\tn = sum(self.ns)\n",
    "\t\t#print(f'epoch {self.epoch} , {self.model.training}, {(self.losses).item()/n:.2f} , {sum(self.accs).item()/n:.2f}')\n",
    "\t\tprint(self.epoch, self.model.training, sum(self.losses).item()/n, sum(self.accs).item()/n)\n",
    "\t\n",
    "\n",
    "\tdef fit(self, n_epochs):\n",
    "\t\tself.accs, self.losses, self.ns = [], [], []\n",
    "\n",
    "\t\tself.model.to(def_device)\n",
    "\t\tself.opt = self.opt_func(self.model.parameters(), self.lr)\n",
    "\t\tself.n_epochs = n_epochs\n",
    "\t\tfor self.epoch in range(n_epochs):\n",
    "\t\t\tself.one_epoch(True)\n",
    "\t\t\twith torch.no_grad():\n",
    "\t\t\t\tself.one_epoch(False)\n",
    "\t\n"
   ]
  },
  {
   "cell_type": "code",
   "execution_count": 115,
   "id": "2e66deb0",
   "metadata": {},
   "outputs": [
    {
     "name": "stdout",
     "output_type": "stream",
     "text": [
      "0 True 1.15813828125 0.6121333333333333\n",
      "0 False 1.1153474330357143 0.6226\n"
     ]
    }
   ],
   "source": [
    "m, nh =28*28,50\n",
    "model = nn.Sequential(nn.Linear(m, nh), nn.ReLU(), nn.Linear(nh, 10))\n",
    "\n",
    "learner = Learner(model=model, dls=dls, loss_func=F.cross_entropy, opt_func=optim.SGD, lr=0.2)\n",
    "learner.fit(1)"
   ]
  },
  {
   "cell_type": "code",
   "execution_count": 31,
   "metadata": {},
   "outputs": [],
   "source": [
    "#| hide\n",
    "import nbdev; nbdev.nbdev_export('01_preprocessing.lesson_15.ipynb')"
   ]
  },
  {
   "cell_type": "code",
   "execution_count": null,
   "id": "92126022",
   "metadata": {},
   "outputs": [],
   "source": []
  }
 ],
 "metadata": {
  "kernelspec": {
   "display_name": "base",
   "language": "python",
   "name": "python3"
  },
  "language_info": {
   "codemirror_mode": {
    "name": "ipython",
    "version": 3
   },
   "file_extension": ".py",
   "mimetype": "text/x-python",
   "name": "python",
   "nbconvert_exporter": "python",
   "pygments_lexer": "ipython3",
   "version": "3.10.14"
  }
 },
 "nbformat": 4,
 "nbformat_minor": 5
}
